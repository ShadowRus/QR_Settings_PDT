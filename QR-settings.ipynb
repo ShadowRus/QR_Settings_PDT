{
 "cells": [
  {
   "cell_type": "code",
   "execution_count": 1,
   "id": "a8e9d7f3",
   "metadata": {},
   "outputs": [],
   "source": [
    "import qrcode"
   ]
  },
  {
   "cell_type": "code",
   "execution_count": 2,
   "id": "68fa4baa",
   "metadata": {},
   "outputs": [],
   "source": [
    "import json"
   ]
  },
  {
   "cell_type": "code",
   "execution_count": null,
   "id": "57453ad2",
   "metadata": {},
   "outputs": [],
   "source": [
    "student = {\"Name\": \"Kushi\",\"Age\": 5,\"hobby\":\"playing\"}\n",
    "with open('data.json', 'w') as f:\n",
    "    json.dump(student, f)"
   ]
  },
  {
   "cell_type": "code",
   "execution_count": 89,
   "id": "cff75087",
   "metadata": {},
   "outputs": [],
   "source": [
    "ver_v = 1\n",
    "# яркость 0 .. 100\n",
    "k_0 = 10 \n",
    "# автоповорот 0 - выключен, 1 - включен\n",
    "k_1 = 1\n",
    "# мобильная связь 0 - выключен, 1 - включен\n",
    "k_2 = 1\n",
    "# спящий режим в сек\n",
    "k_3 = 30\n",
    "# Подключение к WiFi, k_4_1 = ssid, k_4_2 = pass\n",
    "k_4_1 = 'QWERTY'\n",
    "k_4_2 = 'qwerty'\n",
    "# k_5\n",
    "# геолокация 0 -выключен, 1 - включен\n",
    "k_6 = 0\n",
    "# фонарик 0 -выключен, 1 - включен\n",
    "k_7 = 0\n",
    "# Ночной режим, 0 -выключен, 1 - включен\n",
    "k_8 = 0\n",
    "# NFC 0 - выключен, 1 - включен\n",
    "k_9 = 1\n",
    "# k_10\n",
    "# k_11\n",
    "# WiFi 0 - выключен, 1 - включен \n",
    "k_12 = 1\n",
    "k_13 ='test'\n",
    "k_13_k =13\n"
   ]
  },
  {
   "cell_type": "code",
   "execution_count": 23,
   "id": "0ffb8ef3",
   "metadata": {},
   "outputs": [],
   "source": [
    "dict1 = {\"ver\":c,\"kv\":[dict2]}"
   ]
  },
  {
   "cell_type": "code",
   "execution_count": 22,
   "id": "b97c4474",
   "metadata": {},
   "outputs": [],
   "source": [
    "dict2 = {\"k\":9,\"v\":True},{\"k\":12,\"v\":True},{\"k\":3,\"v\":30},{\"k\":8,\"v\":False},{\"k\":7,\"v\":False},{\"k\":1,\"v\":False},{\"k\":0,\"v\":10},{\"k\":6,\"v\":False},{\"k\":2,\"v\":False},{\"k\":4, \"v\": {\"ssid\":\"MyBestNetwork\",\"pass\":\"lalalalalalalalalal\"}}"
   ]
  },
  {
   "cell_type": "code",
   "execution_count": 5,
   "id": "284f2f5d",
   "metadata": {
    "collapsed": true
   },
   "outputs": [
    {
     "data": {
      "image/png": "[encoded data removed]",
      "text/plain": [
       "<qrcode.image.pil.PilImage at 0x7f94ec665310>"
      ]
     },
     "execution_count": 5,
     "metadata": {},
     "output_type": "execute_result"
    }
   ],
   "source": [
    "qrcode.make(dict1)"
   ]
  },
  {
   "cell_type": "code",
   "execution_count": 49,
   "id": "68e0f05a",
   "metadata": {},
   "outputs": [
    {
     "data": {
      "text/plain": [
       "True"
      ]
     },
     "execution_count": 49,
     "metadata": {},
     "output_type": "execute_result"
    }
   ],
   "source": [
    "dict1['kv'][0][0]['v']"
   ]
  },
  {
   "cell_type": "code",
   "execution_count": 92,
   "id": "004a017a",
   "metadata": {},
   "outputs": [
    {
     "data": {
      "text/plain": [
       "({'k': 1, 'v': 3},\n",
       " {'k': 4, 'v': 4},\n",
       " {'k': 3, 'v': 30},\n",
       " {'k': 8, 'v': False},\n",
       " {'k': 7, 'v': False},\n",
       " {'k': 1, 'v': False},\n",
       " {'k': 0, 'v': 10},\n",
       " {'k': 6, 'v': False},\n",
       " {'k': 2, 'v': False},\n",
       " {'k': 4, 'v': {'ssid': 'MyBestNetwork', 'pass': 'lalalalalalalalalal'}})"
      ]
     },
     "execution_count": 92,
     "metadata": {},
     "output_type": "execute_result"
    }
   ],
   "source": [
    "dict2"
   ]
  },
  {
   "cell_type": "code",
   "execution_count": 96,
   "id": "2ee98bf9",
   "metadata": {},
   "outputs": [
    {
     "data": {
      "text/plain": [
       "{'k': 4, 'v': {'ssid': 'MyBestNetwork', 'pass': 'lalalalalalalalalal'}}"
      ]
     },
     "execution_count": 96,
     "metadata": {},
     "output_type": "execute_result"
    }
   ],
   "source": [
    "dict2[9]"
   ]
  },
  {
   "cell_type": "code",
   "execution_count": 93,
   "id": "9cf69f8b",
   "metadata": {},
   "outputs": [
    {
     "ename": "TypeError",
     "evalue": "'tuple' object does not support item assignment",
     "output_type": "error",
     "traceback": [
      "\u001b[0;31m---------------------------------------------------------------------------\u001b[0m",
      "\u001b[0;31mTypeError\u001b[0m                                 Traceback (most recent call last)",
      "\u001b[0;32m/tmp/ipykernel_7123/3538019253.py\u001b[0m in \u001b[0;36m<module>\u001b[0;34m\u001b[0m\n\u001b[0;32m----> 1\u001b[0;31m \u001b[0mdict2\u001b[0m\u001b[0;34m[\u001b[0m\u001b[0;36m10\u001b[0m\u001b[0;34m]\u001b[0m\u001b[0;34m=\u001b[0m\u001b[0;34m{\u001b[0m\u001b[0;34m'k'\u001b[0m\u001b[0;34m:\u001b[0m\u001b[0mk_13_k\u001b[0m\u001b[0;34m,\u001b[0m \u001b[0;34m'v'\u001b[0m\u001b[0;34m:\u001b[0m\u001b[0mk_13\u001b[0m\u001b[0;34m}\u001b[0m\u001b[0;34m\u001b[0m\u001b[0;34m\u001b[0m\u001b[0m\n\u001b[0m",
      "\u001b[0;31mTypeError\u001b[0m: 'tuple' object does not support item assignment"
     ]
    }
   ],
   "source": [
    "dict2[10]={'k':k_13_k, 'v':k_13}"
   ]
  },
  {
   "cell_type": "code",
   "execution_count": 85,
   "id": "207cb73c",
   "metadata": {},
   "outputs": [],
   "source": [
    "dict_kv= dict2"
   ]
  },
  {
   "cell_type": "code",
   "execution_count": 86,
   "id": "e795666d",
   "metadata": {},
   "outputs": [],
   "source": [
    "dict_qr['ver'] = ver_v\n",
    "dict_qr['kv']= dict_kv"
   ]
  },
  {
   "cell_type": "code",
   "execution_count": 87,
   "id": "3be8c1ca",
   "metadata": {},
   "outputs": [],
   "source": [
    "dict_kv[0]['k'] = 1\n",
    "dict_kv[0]['v']= 3\n",
    "dict_kv[1]['k'] = 4\n",
    "dict_kv[1]['v']= 4"
   ]
  },
  {
   "cell_type": "code",
   "execution_count": 61,
   "id": "142269ca",
   "metadata": {},
   "outputs": [],
   "source": [
    "dict_qr = {}\n",
    "dict_kv = {}\n",
    "dict_sb = {}"
   ]
  },
  {
   "cell_type": "code",
   "execution_count": 88,
   "id": "0d5bf6f9",
   "metadata": {},
   "outputs": [
    {
     "data": {
      "text/plain": [
       "{'ver': 1,\n",
       " 'kv': ({'k': 1, 'v': 3},\n",
       "  {'k': 4, 'v': 4},\n",
       "  {'k': 3, 'v': 30},\n",
       "  {'k': 8, 'v': False},\n",
       "  {'k': 7, 'v': False},\n",
       "  {'k': 1, 'v': False},\n",
       "  {'k': 0, 'v': 10},\n",
       "  {'k': 6, 'v': False},\n",
       "  {'k': 2, 'v': False},\n",
       "  {'k': 4, 'v': {'ssid': 'MyBestNetwork', 'pass': 'lalalalalalalalalal'}})}"
      ]
     },
     "execution_count": 88,
     "metadata": {},
     "output_type": "execute_result"
    }
   ],
   "source": [
    "dict_qr"
   ]
  },
  {
   "cell_type": "code",
   "execution_count": 97,
   "id": "ccd9e26b",
   "metadata": {},
   "outputs": [],
   "source": [
    "dict_ex = {\n",
    "  \"ver\": 1,\n",
    "  \"kv\": [\n",
    "    {\n",
    "      \"k\": 4,\n",
    "      \"v\": {\n",
    "        \"ssid\": \"MyBestNetwork\",\n",
    "        \"pass\": \"lalalalalalalalalal\"\n",
    "      }\n",
    "      },\n",
    "    {\n",
    "      \"k\": 404,\n",
    "      \"v\": 404\n",
    "    },\n",
    "    {\n",
    "      \"k\": 404,\n",
    "      \"v\": 404\n",
    "    },\n",
    "    {\n",
    "      \"k\": 404,\n",
    "      \"v\": 404\n",
    "    },\n",
    "    {\n",
    "      \"k\": 404,\n",
    "      \"v\": 404\n",
    "    },\n",
    "    {\n",
    "      \"k\": 404,\n",
    "      \"v\": 404\n",
    "    },\n",
    "    {\n",
    "      \"k\": 404,\n",
    "      \"v\": 404\n",
    "    },\n",
    "    {\n",
    "      \"k\": 404,\n",
    "      \"v\": 404\n",
    "    },\n",
    "    {\n",
    "      \"k\": 404,\n",
    "      \"v\": 404\n",
    "    },\n",
    "    {\n",
    "      \"k\": 404,\n",
    "      \"v\": 404\n",
    "    },\n",
    "    {\n",
    "      \"k\": 404,\n",
    "      \"v\": 404\n",
    "    },\n",
    "    {\n",
    "      \"k\": 404,\n",
    "      \"v\": 404\n",
    "    },\n",
    "    {\n",
    "      \"k\": 404,\n",
    "      \"v\": 404\n",
    "    },\n",
    "    {\n",
    "      \"k\": 404,\n",
    "      \"v\": 404\n",
    "    },\n",
    "    {\n",
    "      \"k\": 404,\n",
    "      \"v\": 404\n",
    "    },\n",
    "    {\n",
    "      \"k\": 404,\n",
    "      \"v\": 404\n",
    "    }\n",
    "  ]\n",
    "}"
   ]
  },
  {
   "cell_type": "code",
   "execution_count": 101,
   "id": "98ebc916",
   "metadata": {},
   "outputs": [],
   "source": [
    "dict_ex['kv'][1]['k'] = 500"
   ]
  },
  {
   "cell_type": "code",
   "execution_count": 102,
   "id": "a2f7e6eb",
   "metadata": {},
   "outputs": [
    {
     "data": {
      "text/plain": [
       "{'ver': 1,\n",
       " 'kv': [{'k': 4,\n",
       "   'v': {'ssid': 'MyBestNetwork', 'pass': 'lalalalalalalalalal'}},\n",
       "  {'k': 500, 'v': 404},\n",
       "  {'k': 404, 'v': 404},\n",
       "  {'k': 404, 'v': 404},\n",
       "  {'k': 404, 'v': 404},\n",
       "  {'k': 404, 'v': 404},\n",
       "  {'k': 404, 'v': 404},\n",
       "  {'k': 404, 'v': 404},\n",
       "  {'k': 404, 'v': 404},\n",
       "  {'k': 404, 'v': 404},\n",
       "  {'k': 404, 'v': 404},\n",
       "  {'k': 404, 'v': 404},\n",
       "  {'k': 404, 'v': 404},\n",
       "  {'k': 404, 'v': 404},\n",
       "  {'k': 404, 'v': 404},\n",
       "  {'k': 404, 'v': 404}]}"
      ]
     },
     "execution_count": 102,
     "metadata": {},
     "output_type": "execute_result"
    }
   ],
   "source": [
    "dict_ex"
   ]
  },
  {
   "cell_type": "code",
   "execution_count": 103,
   "id": "40f1dd74",
   "metadata": {},
   "outputs": [
    {
     "data": {
      "text/plain": [
       "qrcode.image.pil.PilImage"
      ]
     },
     "execution_count": 103,
     "metadata": {},
     "output_type": "execute_result"
    }
   ],
   "source": [
    "img = qrcode.make('Some data here')\n",
    "type(img)  # qrcode.image.pil.PilImage"
   ]
  },
  {
   "cell_type": "code",
   "execution_count": null,
   "id": "862909d0",
   "metadata": {},
   "outputs": [],
   "source": []
  }
 ],
 "metadata": {
  "kernelspec": {
   "display_name": "Python 3 (ipykernel)",
   "language": "python",
   "name": "python3"
  },
  "language_info": {
   "codemirror_mode": {
    "name": "ipython",
    "version": 3
   },
   "file_extension": ".py",
   "mimetype": "text/x-python",
   "name": "python",
   "nbconvert_exporter": "python",
   "pygments_lexer": "ipython3",
   "version": "3.9.7"
  }
 },
 "nbformat": 4,
 "nbformat_minor": 5
}
